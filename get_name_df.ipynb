{
 "cells": [
  {
   "cell_type": "code",
   "execution_count": null,
   "id": "37cd9915-1a32-4cfd-ba6b-69054a937f4a",
   "metadata": {},
   "outputs": [],
   "source": [
    "import inspect\n",
    "from typing import Any\n",
    "\n",
    "import pandas as pd\n",
    "\n",
    "\n",
    "def variable_name_to_string(variable: Any) -> str:\n",
    "    return [k for k, v in inspect.currentframe().f_back.f_locals.items() if v is variable][0]\n",
    "\n",
    "\n",
    "df = pd.DataFrame(data={\"spam\": [1, 2], \"ham\": [3, 4]})\n",
    "df_name = variable_name_to_string(variable=df)\n",
    "print(type(df_name))\n",
    "'''\n",
    "\n",
    "\n",
    "its just a list comp that goes through dict_items from the inspect obj to find your variable \n",
    "\n",
    "'''"
   ]
  }
 ],
 "metadata": {
  "kernelspec": {
   "display_name": "Python 3 (ipykernel)",
   "language": "python",
   "name": "python3"
  },
  "language_info": {
   "codemirror_mode": {
    "name": "ipython",
    "version": 3
   },
   "file_extension": ".py",
   "mimetype": "text/x-python",
   "name": "python",
   "nbconvert_exporter": "python",
   "pygments_lexer": "ipython3",
   "version": "3.11.5"
  }
 },
 "nbformat": 4,
 "nbformat_minor": 5
}
